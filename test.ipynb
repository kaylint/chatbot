{
 "cells": [
  {
   "cell_type": "code",
   "execution_count": 30,
   "metadata": {},
   "outputs": [
    {
     "data": {
      "text/plain": "'\"Hello\",\"Hi there!\",\"How are you doing?\",\"I\\'m doing great.\",\"That is good to hear\",\"Thank you.\",\"You\\'re welcome.\"\\n\"Thank you\",\"You\\'re welcome\"\\n'"
     },
     "execution_count": 30,
     "metadata": {},
     "output_type": "execute_result"
    }
   ],
   "source": [
    "with open('conversation.txt') as f:\n",
    "    lines = f.read()\n",
    "lines"
   ]
  },
  {
   "cell_type": "code",
   "execution_count": 31,
   "metadata": {},
   "outputs": [
    {
     "data": {
      "text/plain": "['\"Hello\",\"Hi there!\",\"How are you doing?\",\"I\\'m doing great.\",\"That is good to hear\",\"Thank you.\",\"You\\'re welcome.\"',\n '\"Thank you\",\"You\\'re welcome\"']"
     },
     "execution_count": 31,
     "metadata": {},
     "output_type": "execute_result"
    }
   ],
   "source": [
    "lines = lines.splitlines()\n",
    "lines"
   ]
  },
  {
   "cell_type": "code",
   "execution_count": 32,
   "metadata": {},
   "outputs": [
    {
     "name": "stdout",
     "output_type": "stream",
     "text": [
      "['\"Hello\",\"Hi there!\",\"How are you doing?\",\"I\\'m doing great.\",\"That is good to hear\",\"Thank you.\",\"You\\'re welcome.\"']\n",
      "['\"Thank you\",\"You\\'re welcome\"']\n"
     ]
    }
   ],
   "source": [
    "for i in lines:\n",
    "    print([i])"
   ]
  },
  {
   "cell_type": "code",
   "execution_count": 34,
   "metadata": {},
   "outputs": [],
   "source": [
    "f.close()"
   ]
  }
 ],
 "metadata": {
  "kernelspec": {
   "display_name": "Python 3.8.5 64-bit ('base': conda)",
   "name": "python385jvsc74a57bd05a320894b34090ecca04137520f6fe2ac50253f9dcf4b51d9c389ebaa9d4cf20"
  },
  "language_info": {
   "codemirror_mode": {
    "name": "ipython",
    "version": 3
   },
   "file_extension": ".py",
   "mimetype": "text/x-python",
   "name": "python",
   "nbconvert_exporter": "python",
   "pygments_lexer": "ipython3",
   "version": "3.8.5"
  },
  "orig_nbformat": 2
 },
 "nbformat": 4,
 "nbformat_minor": 2
}