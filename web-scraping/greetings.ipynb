{
 "cells": [
  {
   "cell_type": "markdown",
   "metadata": {},
   "source": [
    "## Webscraping DHL Webpage for FAQs to train chatbot."
   ]
  },
  {
   "cell_type": "code",
   "execution_count": 128,
   "metadata": {},
   "outputs": [],
   "source": [
    "g = [\"Hello\",\n",
    "\"Hi there!\",\n",
    "\"How are you doing?\",\n",
    "\"I'm doing great.\",\n",
    "\"That is good to hear\",\n",
    "\"Thank you.\",\n",
    "\"You're welcome.\"\n",
    "\"hello\",\n",
    "\"helloo\",\n",
    "\"hellooo\",\n",
    "\"Good Day\",\n",
    "\"Greetings!\",\n",
    "\"Good to see you\",\n",
    "\"Its good seeing you\",\n",
    "\"How are you\",\n",
    "\"How are you doing\",\n",
    "\"how ya doin'\",\n",
    "\"how ya doin\",\n",
    "\"how is everything going\",\n",
    "\"how is it going\",\n",
    "\"how is life been treating you\",\n",
    "\"how have you been\", \n",
    "\"what's up\", \"what is cracking\",\n",
    "\"what is happening\",\n",
    "\"tell me more about yourself\",\n",
    "\"i am a bot that's always happy to help!\"\n",
    "\"what is new\",\n",
    "\"i am a bot, everything is\"]"
   ]
  },
  {
   "cell_type": "code",
   "execution_count": 130,
   "metadata": {},
   "outputs": [],
   "source": [
    "with open(\"../data/greeting.txt\", \"wb\") as fp:\n",
    "    pickle.dump(g, fp)"
   ]
  }
 ],
 "metadata": {
  "kernelspec": {
   "display_name": "Python 3.8.5 64-bit ('base': conda)",
   "name": "python385jvsc74a57bd05a320894b34090ecca04137520f6fe2ac50253f9dcf4b51d9c389ebaa9d4cf20"
  },
  "language_info": {
   "name": "python",
   "version": ""
  },
  "orig_nbformat": 2
 },
 "nbformat": 4,
 "nbformat_minor": 2
}