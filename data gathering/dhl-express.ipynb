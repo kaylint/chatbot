{
 "cells": [
  {
   "cell_type": "code",
   "execution_count": 55,
   "metadata": {},
   "outputs": [],
   "source": [
    "# web scraping DHL Express FAQ to train chatbot\n",
    "from bs4 import BeautifulSoup\n",
    "\n",
    "#since DHL website prevents scraping, saved the webpage and scraped from local drive\n",
    "#to scrape:\n",
    "# 1. generalqueries.html\n",
    "# 2. shipping.html\n",
    "# 3. quotation.html\n",
    "# 4. taxes.html\n",
    "# 5. ecommerce.html\n",
    "# 6. country.html"
   ]
  },
  {
   "cell_type": "code",
   "execution_count": 56,
   "metadata": {},
   "outputs": [],
   "source": [
    "questions = []\n",
    "answers = []\n",
    "pages = [\"generalqueries.html\",\"shipping.html\",\"quotation.html\",\"taxes.html\",\"ecommerce.html\",\"country.html\"]"
   ]
  },
  {
   "cell_type": "code",
   "execution_count": 57,
   "metadata": {},
   "outputs": [],
   "source": [
    "def scraper(page):\n",
    "    soup = BeautifulSoup(open(page),\"html\")\n",
    "    faq = soup.find('body').find_all('strong')\n",
    "    for item in faq:\n",
    "        questions.append(item.text)\n",
    "    return questions"
   ]
  },
  {
   "cell_type": "code",
   "execution_count": 58,
   "metadata": {},
   "outputs": [],
   "source": [
    "for page in pages:\n",
    "    scraper(page)"
   ]
  },
  {
   "cell_type": "code",
   "execution_count": 59,
   "metadata": {},
   "outputs": [
    {
     "data": {
      "text/plain": "['Who is DHL Express?',\n 'Who can ship with DHL Express?',\n 'Am I eligible to open an account with DHL Express Singapore?',\n 'What are the benefits of opening an account with DHL Express Singapore?',\n 'Where does DHL Express not ship to?',\n 'Can I send to a PO Box?',\n 'What items cannot be shipped by DHL Express?',\n 'What is restricted cargo and can DHL Express ship them?',\n 'I have an account, how do I get started?',\n 'How long will my shipment take to be delivered?',\n 'What time can DHL Express deliver or collect my shipment in Singapore?',\n 'I am not available to receive my shipment on the estimated delivery date. What should I do?',\n 'What is volumetric weight?',\n 'DHL Express damaged/lost my shipment! What should I do?',\n 'The estimated transit time is too long! I need my shipment to be delivered faster. How can DHL help me?',\n 'Can DHL Express return my shipment?',\n 'How do I obtain a quotation for my shipment?',\n 'How can I pay for my DHL Express shipments?',\n 'How can I apply for MyBill?',\n 'How can I apply for direct debit?',\n 'How do I use MyBill?',\n 'What are the benefits of MyBill?',\n 'I have been billed incorrectly. What should I do?',\n 'How long is my credit term?',\n 'If I do not use MyBill or direct debit, how can I check on my outstanding invoices?',\n 'Why am I being billed more for the same shipment?',\n 'I want to talk to someone about billing. Who should I contact?',\n 'What is an Advance Payment Fee? How is it calculated?',\n 'Why must I pay GST first before receiving my shipment?',\n 'What are the payment modes available?',\n 'Why should I be concerned with customs? Shouldn’t DHL Express take care of it for me?',\n 'What are duties and taxes? How does it affect me?',\n 'How can DHL Express can help with duties and taxes?',\n 'Why do I need an invoice for my shipment? What is it for?',\n 'My shipper has declared an incorrect invoice value which resulted in high duties and taxes. What should I do?',\n 'What is Goods and Services Tax (GST)?',\n 'Why must I pay GST for gifts, samples or personal used items? ',\n 'I have purchased the goods and made full payment to the online seller. Why must I pay GST and not the online seller?',\n 'Why must I pay GST when my commercial value declared in the customs invoice is less than SGD 400?',\n 'This shipment is meant for temporary export and will be returned (import) after a repair, how can I apply for GST exemption?',\n 'Who can I contact for more information on GST related matters?',\n 'What e-Commerce solutions does DHL Express Singapore offer?',\n 'Who can use online tools or e-commerce platforms?',\n 'What are the rates for these tools, portals or plug-in?',\n 'I run an e-commerce business and I want DHL Express to handle my shipments, how do I get started?',\n 'Where can I find out more about the DEC platform?',\n 'Is there a value limit when shipping to China?',\n 'How can I ensure a smooth clearance when sending personal effects to China?',\n 'What are the common cause of custom-related delays when exporting to China?',\n 'What is restricted to send into China?']"
     },
     "execution_count": 59,
     "metadata": {},
     "output_type": "execute_result"
    }
   ],
   "source": [
    "questions"
   ]
  },
  {
   "cell_type": "code",
   "execution_count": 60,
   "metadata": {},
   "outputs": [],
   "source": [
    "#do the same for the answers\n",
    "answers=[]\n",
    "def scraper(page):\n",
    "    soup = BeautifulSoup(open(page),\"html\")\n",
    "    faq = soup.find('body').find_all('div',{'class':\"card-body p-0\"})\n",
    "    for item in faq:\n",
    "        answers.append(item.text)\n",
    "    return answers"
   ]
  },
  {
   "cell_type": "code",
   "execution_count": 61,
   "metadata": {},
   "outputs": [],
   "source": [
    "for page in pages:\n",
    "    scraper(page)"
   ]
  },
  {
   "cell_type": "code",
   "execution_count": 62,
   "metadata": {},
   "outputs": [
    {
     "data": {
      "text/plain": "['We are the leading international courier service that specializes in providing comprehensive door-to-door logistics.Learn more about DHL Express and how we can be of service to you and your business.',\n 'Anyone can ship with us! We support all customers from personal shippers to large businesses.Ship with us today! ',\n 'You must open an account with a registered Singapore business with a UEN in order to be a DHL Express corporate account holder.',\n 'Account-holders will receive preferential DHL shipping rates, be the first to be notified of shipping promotions and have a dedicated account manager to support your shipping needs.Open an account today! ',\n 'DHL Express does not serve the following countries:AscensionBovet IslandIndian Ocean TerritoryFrench Southern TerritoriesHeard & Mcdonald IslandsPitcairnSaint Pierre & MiquelonTajikistanTristan Da CunhaUS Minor Outlying Islands (Baker Island, Howland Island, Jarvis Island, Johnston Atoll, Kingman Reef, Midway Atoll, Palmyra Atoll, Wake Island)Western Sahara',\n 'Shipments cannot be delivered to PO boxes. Shipments are delivered to the receiver’s address given by shipper with a recipient name.',\n 'DHL is unable to carry the following items due to laws, regulations, or statues. The prohibition is enforced by any federal, state or local government where the shipment is sent to or from, or simply transiting through. For international carriage there may be additional prohibited items specified by the country of destination.All Samsung Galaxy Note7 and Samsung Note7 devicesBullion (of any precious metal)Cash (legal tender – bank notes, currency notes and coins)Complete firearms, ammunition, explosives or explosive devices including inert explosives and test pieces, air guns, replica and imitation firearmsHuman remains or ashes in any formHunting (animal) trophies, animal parts such as ivory and shark’s fin, animal remains or ashes, or animal by-products and derived products not intended for human consumption, prohibited for movement by the CITES Convention and or or local lawIllegal goods, such as counterfeit goods and narcoticsLive animals (including but not limited to mammals, reptiles, fish, invertebrates, amphibians, birds, insects, larvae and pupae)Loose lithium metal batteries under IATA PI968 section IILoose precious and semi-precious stones (cut or uncut, polished or unpolished)It contains any other item which DHL decides cannot be carried safely or legallyIf you want more information on what DHL Express can or cannot accept, or are unclear about a certain commodity, do not hesitate to contact our DHL Express hotline today!',\n 'The following items are classified as restricted cargo and will not be accepted unless otherwise agreed. DHL Express will need to conduct a viable business case and reach a mutual agreement that is to be recorded in writing to proceed.Air guns, tasers, imitation or replica firearms, firearm parts and replica ammunition (includes rifle butts, trigger mechanisms, screws or bolts etc. which are manufactured for the sole purpose of creating a functional firearm)Antiques and works of art with a shipment value in excess of EUR 500,000Banderols or Tax stickers with a shipment value in excess of EUR 500,000Cannabis for medicinal purposes from bona fide pharmaceutical manufacturers with appropriate licences and where lawful to ship, which must be in tablet or liquid form, may be carried with an approved business case. The value of one shipment must not exceed EUR 10,000Cigarettes, cigars, tobacco products and electronic cigarettes with a shipment value in excess of EUR 500,000Commemorative coins and medals with an individual value or total shipment value of EUR 2,000 or more are restricted for carriageDangerous or hazardous goods including but not limited to perfumes, aftershaves, aerosols, flammable substances, dry ice, biological substances, UN classified dangerous goods and any goods specified as such under International Air Transport Association regulations (“IATA”), the Agreement on Dangerous Goods by Road (“ADR”) or International Maritime Dangerous Goods (“IMDG”) regulations. Applicable to all shipments valued in excess of EUR 500,000Financial and monetary commodities – examples include but are not limited to activated SIM cards for mobile phones, blank or activated credit or cash dispenser cards, blank cheques, event tickets, lottery tickets, money or postal orders, pre-paid phone cards, tickets (blank stock), traveller’s cheques, vouchers or tokens, unused stamps etc. Applicable to all shipments valued in excess of EUR 500,000FursJewellery and watches and with individual values in excess of EUR 5,000. The shipment must not exceed EUR 100,000If you want to know more about restrictions, contact our customer service team at 1800 285 8888 today!',\n 'Check out our comprehensive  starting guide to help you get started.',\n 'We provide accurate delivery service estimations based on the details of your air waybill (AWB). You can check on your shipment’s estimated delivery date and get updates on the progress by DHL tracking toolby using your 10-digit DHL Express air waybill.Read more about track & tracehere.',\n 'We have 3 delivery or collection cycles every day.A cycle: 10am – 1pmB cycle: 3pm – 6pmC cycle: 7pm – 9pm',\n 'Our On-Demand Delivery (ODD) service gives you 6 alternate delivery options for your convenience.Learn more about ODD.',\n 'Volumetric weight measures the dimensions of your shipment to derive a weight. DHL Express will compare this and the actual weight of your shipment and select the higher of the two to use as final weight calculation.',\n 'First of all, we offer our sincere apologies for this unfortunate incident.Please lodge a claim by contacting DHL customer serviceteam.This has to be done within 30 days from the date DHL Express accepts the shipment.We recommend that you read up on DHL shipment insurance to understand how compensation and coverage works.',\n 'Our transit times are optimized to be delivered in the quickest time possible. In most cases, if the shipment arrives early, we will send it out for delivery earlier than what was estimated.However, we do understand that some shipments need special attention and are more urgent than others.We offer 3 time-definite services:Delivery before 9:00amDelivery before 10:30amDelivery before 12pmYou should check with our customer service team if the country you are shipping to is eligible for these services. Surcharges apply.Find out which DHL Express productsuits your needs best.In the rare event where you need courier service within the same day, DHL Express offers Same Day Service (SDS).',\n 'There will be a processing fee of SGD 30. We will retrieve the shipment and send it back to you on a best effort basis.',\n 'You can get a one-time quotation on MyDHL+. Non-account holders may also generate quotations.Read more on how you cangeta quote from DHL Express.                                     ',\n 'If you are a non-account customer, you have the option of paying by credit card or debit card when you arrange for a shipment with MyDHL+ or when contacting our customer service. You can pay in cash when you are self-lodging                                        your shipment.                                          If you are an account customer, you have the same options of payment but you will be eligible to use our MyBill                                        (electronic billing) portal, electronic fund transfer, AXS, cheque, PayNow, or direct debit – a form of automatic GIRO payment.',\n 'Eligible to account customers only, you can visit DHL MyBillto sign-up. After signing up, you will receive an update from our finance team within 24 hours on the status of your registration. Once your account has been activated, you will be notified and you can proceed to log in.',\n 'You have to be an account customer to apply for direct debit. Fill in this application form                                        and send it to:Finance Department DHL Express (Singapore) Pte Ltd Level 5, No. 1 Tai Seng Drive Singapore 535215                                     ',\n 'Refer to our MyBill user guide here for step-by-step examples of the system.Take a look at our MyBill video guide for a detailed explanation on various aspects of the portal here.                                     ',\n 'A breakdown of the key highlights of DHL MyBill:Receive email notifications for new invoicesReview all historical paymentsGenerate customized reports on your billingsQuery and dispute invoicesSecure payment by eNets or PayNowEasy organization, reducing the need for physical invoicesNo additional charges',\n 'If you have a MyBill account, go to “My Account” and click “Me”, and select the option to dispute the invoice. If you do not have a MyBill account, you can contact our finance at 6880 6405.',\n 'Unless otherwise agreed, credit terms for freight is 30 days and credit term for duties and taxes is 7 days.',\n 'Our system will mail you reminder letters or you will be contacted by our finance team.',\n 'Typically, there are 2 reasons why you might be billed more.You did not indicate the accurate weight when creating your air waybill. All DHL Express shipments are subject to re-weigh, and if your shipment is heavier than what was originally declared, you will be billed the                                            difference.                                        You have incurred duties and taxes – you will need to pay for it before your shipment can clear customs.',\n 'If you prefer to speak to our experts, you can call our finance department at 6880 6405. This hotline operates from 0900 – 1800hrs, Monday to Friday. Alternatively, you can call our toll-free customer service                                        hotline at 1800 285 8888, available 24 or 7.',\n 'Effective 01 August 2015, we have renamed our GST Handling Fee to Advance Payment Fee. DHL Express pays in advance any GST charges raised by Singapore Customs on the behalf of the receiver. This helps to ensure faster                                        customs clearance and delivery.A minimum of SGD 20 is charged or 5% of the total GST payable, whichever is higher and up to a maximum of SGD 100. Advance Payment is not applicable for Customs GIRO payment method.',\n 'DHL Express does not offer credit terms for GST. To expedite your shipment clearance, DHL Express has paid the GST in advance to Singapore Customs on your behalf. As such, we need to recover the payment                                        before the shipment is released.',\n 'You can pay by:Credit CardPayNow, to DHL Express UEN# 197700524ZElectronic Bank TransferGIROCheque, crossed and made payable to DHL EXPRESS (SINGAPORE) PTE LTDDirect DebitAXSCash                                         ',\n 'Customs departments around the world are usually an extension of the country’s government. DHL Express has no                                        influence over customs, but we do have the expertise and specialists to help facilitate a smooth clearance for your shipment.Learn more about our Customs servicehere.',\n 'Every country has their own taxation schemes for exporting and importing. For example, anything being imported in to Singapore that is valued above SGD 400 has to incur a 7% GST.When your shipment incurs duties or taxes, the costs are usually borne by the receiver. There will be a set timeline to settle these fees if not your shipment might risk being delayed or in the worst case, confiscated                                        by customs.It is recommended that you read up thoroughly on the customs requirements of countries that you plan to export to prior to shipping. Similarly, it is important that you know your country’s importing requirements                                        when you are ordering something from overseas.                                     ',\n 'Typically, the receiver shoulders the payment of duties and taxes. DHL Express allows shippers to offer their receivers greater convenience by using their DHL account to cover duties and taxes for their shipments over                                        at the destination country. This is known as “Duties & Taxes Paid (DTP)”. Commonly referred to in abbreviation as DTP, or DDP.You should indicate this on your DHL AWB when creating your shipment.',\n 'First of all, your shipping invoice is NOT to be confused with your DHL Express bill, although both may be referred to as invoices.As long as you are shipping a parcel, regardless of the purpose, you must produce a shipping invoice. The invoice is a supporting document that justifies the description of your air waybill, and verifies the value of                                        your shipment. It is used by both DHL Express and customs departments to have a better understanding of your shipment.Shipping documents with DHL Express do not require a shipping invoice.',\n 'To get a refund, fill up the refund request form and submit the relevant documents. Our GST Helpdesk                                        will review it and get back to you within 7 working days.                                          For re-declaration, submit the correct invoice to DHL Express for us to re-declare the shipment with Singapore customs. Re-declaration fees apply.',\n 'Goods and Services Tax or GST is a broad-based consumption tax levied on the import of goods (collected by Singapore Customs), as well as nearly all supplies of goods and services in Singapore. In other countries, GST                                        is known as the Value-Added Tax or VAT.GST of 7% is charged for all imports into Singapore with total CIF value above SGD 400.For more information, please refer to https: or  or www.iras.gov.sg or                                      ',\n 'As per Singapore Customs, GST is levied on all goods imported into Singapore which are more than SGD 400 CIF and or or dutiable goods. Similar to imports, all re-imports of goods into Singapore will incur GST and or or duty                                        payments.',\n 'If your online seller is absorbing the GST, they need to use DTP (Duties Taxes Paid) service whereby all Duties and Taxes will be billed back to shipper.You will need to pay for GST if your online seller has opted for DDU (Delivery Duty Unpaid), where receiver is responsible for these charges.For more information, please check with your online seller on the services offered by them.',\n 'GST is levied on all goods imported into Singapore which are more than SGD 400 CIF and or or dutiable goods.What is CIF? CIF = (Declaring value in SGD + Freight Charge) + 1% Insurance of (Declaring value in SGD + Freight Charge) x 7%',\n 'To apply for the temporary export and import permit, please contact our Customer Service Team via live chat: http: or  or bit.ly or ChatLiveWithDHLSG for                                        the arrangement.There will be a SGD 200 application fee for both permits, payable via cash, cheque, or credit card. If you have a GST account with us, it can be charged to the account.                                     ',\n 'For more information, you can call our GST hotline at +65 6389 5722 (Mon – Fri, excluding public holidays: 8.30 am – 12.30 pm, 1.30 pm – 5.00 pm)',\n 'We have online tools to support e-Commerce businesses like ODD, MyDHL+,and MyBill.Moreover, we have created DHL Express Commerce (DEC) and developed an API for sellers to seamlessly integrate DHL Express services on their website, creating a better user experience for both sellers and buyers.',\n 'All customers are able to access ODD and MyDHL+. Only DHL Express account customers can access MyBill and DEC.',\n 'Absolutely free! However, only DHL Express account customers can access MyBill and host our DEC platform or implement DHL Express APIon their e-commerce websitesor marketplace.',\n 'Click on the “TALK TO US” tab and our friendly staff will get in touch with you.If you are an existing customer, contact your respective account manager for further assistance.',\n 'You can read more about theDEC platform and APIor contact your account manager for more information.',\n 'If you are shipping to China you are recommended to send shipments of up to USD 700 in value. Anything exceeding this amount might result in additional delay and or or duties.',\n 'The full recipient details has to be indicated clearly on the paperwork (Air WayBill or Invoice). Personal shipments should be shipped in reasonable quantities, if not it might alert the destination customs and incur additional delay and or or duties.Meat, seafood, and yolk related products are prohibited to send into China.It is important to clearly list down all the contents and their value when sending a personal shipment.',\n 'Items not described clearly, or without the supporting paperwork will cause delays with Chinese customs. You are recommended to speak to our Customer Service advisors if you are unfamiliar with the requirements.',\n 'Restricted commodities are not limited hence you are encouraged to contact our Customer Service advisors to have a better understanding of the customs requirements if you are unfamiliar or sending a commodity for the first time.']"
     },
     "execution_count": 62,
     "metadata": {},
     "output_type": "execute_result"
    }
   ],
   "source": [
    "#clean answers\n",
    "answers = [a.replace('\\n','').replace('\\xa0','') for a in answers]\n",
    "answers = [a.replace('/',' or ') for a in answers]\n",
    "\n",
    "answers"
   ]
  },
  {
   "cell_type": "code",
   "execution_count": 63,
   "metadata": {},
   "outputs": [
    {
     "name": "stdout",
     "output_type": "stream",
     "text": [
      "50 50\n"
     ]
    }
   ],
   "source": [
    "#check if length is correct\n",
    "print(len(questions),len(answers))"
   ]
  },
  {
   "cell_type": "code",
   "execution_count": 65,
   "metadata": {},
   "outputs": [],
   "source": [
    "combined = []\n",
    "for i in range(len(questions)):\n",
    "    pairs = []\n",
    "    pairs.append(questions[i])\n",
    "    pairs.append(answers[i])\n",
    "    combined.append(pairs)\n"
   ]
  },
  {
   "cell_type": "code",
   "execution_count": 66,
   "metadata": {},
   "outputs": [
    {
     "data": {
      "text/plain": "[['Who is DHL Express?',\n  'We are the leading international courier service that specializes in providing comprehensive door-to-door logistics.Learn more about DHL Express and how we can be of service to you and your business.'],\n ['Who can ship with DHL Express?',\n  'Anyone can ship with us! We support all customers from personal shippers to large businesses.Ship with us today! '],\n ['Am I eligible to open an account with DHL Express Singapore?',\n  'You must open an account with a registered Singapore business with a UEN in order to be a DHL Express corporate account holder.'],\n ['What are the benefits of opening an account with DHL Express Singapore?',\n  'Account-holders will receive preferential DHL shipping rates, be the first to be notified of shipping promotions and have a dedicated account manager to support your shipping needs.Open an account today! '],\n ['Where does DHL Express not ship to?',\n  'DHL Express does not serve the following countries:AscensionBovet IslandIndian Ocean TerritoryFrench Southern TerritoriesHeard & Mcdonald IslandsPitcairnSaint Pierre & MiquelonTajikistanTristan Da CunhaUS Minor Outlying Islands (Baker Island, Howland Island, Jarvis Island, Johnston Atoll, Kingman Reef, Midway Atoll, Palmyra Atoll, Wake Island)Western Sahara']]"
     },
     "execution_count": 66,
     "metadata": {},
     "output_type": "execute_result"
    }
   ],
   "source": [
    "combined[:5]"
   ]
  },
  {
   "cell_type": "code",
   "execution_count": 67,
   "metadata": {},
   "outputs": [],
   "source": [
    "#create yaml file to train chatbot with dhl q^a\n",
    "import yaml\n",
    "\n",
    "with open('../data/dhlexpress.yaml', 'w') as f:\n",
    "    \n",
    "    data = yaml.dump(combined, f)"
   ]
  }
 ],
 "metadata": {
  "kernelspec": {
   "display_name": "Python 3.8.11 64-bit ('base': conda)",
   "name": "python3811jvsc74a57bd05a320894b34090ecca04137520f6fe2ac50253f9dcf4b51d9c389ebaa9d4cf20"
  },
  "language_info": {
   "codemirror_mode": {
    "name": "ipython",
    "version": 3
   },
   "file_extension": ".py",
   "mimetype": "text/x-python",
   "name": "python",
   "nbconvert_exporter": "python",
   "pygments_lexer": "ipython3",
   "version": "3.8.11"
  },
  "orig_nbformat": 2
 },
 "nbformat": 4,
 "nbformat_minor": 2
}