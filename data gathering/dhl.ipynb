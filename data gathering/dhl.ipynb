{
 "cells": [
  {
   "cell_type": "markdown",
   "metadata": {},
   "source": [
    "## Webscraping DHL Webpage for FAQs to train chatbot."
   ]
  },
  {
   "cell_type": "code",
   "execution_count": 2,
   "metadata": {},
   "outputs": [],
   "source": [
    "#imports\n",
    "from bs4 import BeautifulSoup\n",
    "import requests"
   ]
  },
  {
   "cell_type": "code",
   "execution_count": 3,
   "metadata": {},
   "outputs": [],
   "source": [
    "#target URL -> DHL FAQ Page\n",
    "url = \"https://www.dhl.com/sg-en/home/our-divisions/ecommerce/customer-service/consumer-faq.html\"\n",
    "#response = requests.get(url)\n",
    "#print(response.status_code)\n",
    "#request blocked\n",
    "#save html page manually and scrape instead"
   ]
  },
  {
   "cell_type": "code",
   "execution_count": 4,
   "metadata": {},
   "outputs": [],
   "source": [
    "soup=BeautifulSoup(open(\"dhl-faq.html\"),\"html\")"
   ]
  },
  {
   "cell_type": "code",
   "execution_count": 5,
   "metadata": {},
   "outputs": [],
   "source": [
    "import pandas as pd"
   ]
  },
  {
   "cell_type": "code",
   "execution_count": 6,
   "metadata": {},
   "outputs": [
    {
     "data": {
      "text/plain": "3"
     },
     "execution_count": 6,
     "metadata": {},
     "output_type": "execute_result"
    }
   ],
   "source": [
    "#faq has 3 sections\n",
    "faq = soup.find('body').find('div',{'class':'l-view has-no-stage'}).find('main',{\"id\":'wcag-main-content'}).find_all('div',{'class':'c-component-accordion component-margin component-small l-grid--center-m'})\n",
    "len(faq)"
   ]
  },
  {
   "cell_type": "code",
   "execution_count": 7,
   "metadata": {},
   "outputs": [],
   "source": [
    "#get questions\n",
    "qns_list= []\n",
    "for section in faq:\n",
    "    question = section.find_all('a')\n",
    "    qns_list.append(question)\n"
   ]
  },
  {
   "cell_type": "code",
   "execution_count": 8,
   "metadata": {},
   "outputs": [
    {
     "name": "stdout",
     "output_type": "stream",
     "text": [
      "['How can I track my shipment?', 'What is a tracking number or ID?', 'Where can I find my tracking number or ID?', 'When will my tracking information appear?', 'Why is my shipment status unchanged?', 'Why is my tracking number or ID not working?', 'Can I track multiple tracking numbers with a single request?', 'Who will deliver my shipment?', 'When will my shipment be delivered?', 'Why has my shipment not been delivered yet?', 'Who can I contact if I have not received my shipment?', 'Can you change my delivery address?', 'Can I change the delivery day or delivery time?', 'My shipment is damaged or the content is missing. What can I do?', 'My shipment is not delivered. What can I do?', 'Why is customs holding my shipment?', 'What are the duties and taxes?']\n"
     ]
    }
   ],
   "source": [
    "#since it is a list in a list, flatten the list\n",
    "questions = [qn.text for sublist in qns_list for qn in sublist]\n",
    "\n",
    "#remove '/' from list\n",
    "questions = [q.replace('/',' or ') for q in questions]\n",
    "print(questions)"
   ]
  },
  {
   "cell_type": "code",
   "execution_count": 9,
   "metadata": {},
   "outputs": [],
   "source": [
    "#get answers\n",
    "ans_list = []\n",
    "for section in faq:\n",
    "    answer = section.find_all('div',{'class':\"component-margin c-text-generic has-rte component-small\"})\n",
    "    ans_list.append(answer)"
   ]
  },
  {
   "cell_type": "code",
   "execution_count": 10,
   "metadata": {},
   "outputs": [],
   "source": [
    "#flatten list\n",
    "answers = [ans.text for sublist in ans_list for ans in sublist]\n",
    "answers[:5]\n",
    "\n",
    "#clean answers\n",
    "answers = [a.replace('\\n','').replace('\\xa0','') for a in answers]\n",
    "answers = [a.replace('/',' or ') for a in answers]"
   ]
  },
  {
   "cell_type": "code",
   "execution_count": 11,
   "metadata": {},
   "outputs": [
    {
     "data": {
      "text/plain": "['You can track your shipment using our website or one of our online portals. Usually your merchant or online shop sends you a link to track your shipment.',\n 'A tracking number or ID is a combination of numbers and or or letters that uniquely identifies your shipment. The ID length may vary from 10 to 39 characters.',\n 'In general, the merchant or online shop is able to provide the tracking number or ID. If you have ordered a product from an online shop, the confirmation email or shipment notification often contains the tracking number or ID. If not, please contact your merchant or online shop.Please note that not all shipments have tracking numbers or IDs.']"
     },
     "execution_count": 11,
     "metadata": {},
     "output_type": "execute_result"
    }
   ],
   "source": [
    "answers[:3]"
   ]
  },
  {
   "cell_type": "code",
   "execution_count": 12,
   "metadata": {},
   "outputs": [],
   "source": [
    "combined = []\n",
    "for i in range(len(questions)):\n",
    "    pairs = []\n",
    "    pairs.append(questions[i])\n",
    "    pairs.append(answers[i])\n",
    "    combined.append(pairs)"
   ]
  },
  {
   "cell_type": "code",
   "execution_count": 13,
   "metadata": {},
   "outputs": [
    {
     "data": {
      "text/plain": "[['How can I track my shipment?',\n  'You can track your shipment using our website or one of our online portals. Usually your merchant or online shop sends you a link to track your shipment.'],\n ['What is a tracking number or ID?',\n  'A tracking number or ID is a combination of numbers and or or letters that uniquely identifies your shipment. The ID length may vary from 10 to 39 characters.'],\n ['Where can I find my tracking number or ID?',\n  'In general, the merchant or online shop is able to provide the tracking number or ID. If you have ordered a product from an online shop, the confirmation email or shipment notification often contains the tracking number or ID. If not, please contact your merchant or online shop.Please note that not all shipments have tracking numbers or IDs.'],\n ['When will my tracking information appear?',\n  'You should see tracking events within 24-48 hours after you have received the confirmation by your merchant or online shop. The reason it takes time to see tracking events is because the first event is created once the shipment is handed to us, i.e. once the shipment has departed the fulfillment center of your merchant or online shop.'],\n ['Why is my shipment status unchanged?',\n  'For most shipments, we provide only milestone tracking which means it may take some time before a new tracking event is displayed. Your package continues to travel to its destination despite the time between the tracking events. Depending on the destination, it could also take time to arrive in the destination country due to the distance and transit time of the selected service.Your shipment might also be delayed. Delivery delays can be caused by events beyond the control of DHL, e.g. weather events, local disruptions like public holidays, customs or strikes. In the event your shipment has not arrived within 10 days after the expected delivery time, kindly contact your merchant or online shop. The merchant or online shop as our contract partner can start an investigation for lost items.Please also note that some packages only have limited tracking events in the country of origin and no tracking events in the destination country.'],\n ['Why is my tracking number or ID not working?',\n  'In case your tracking ID is not working, please contact your merchant or online shop.'],\n ['Can I track multiple tracking numbers with a single request?',\n  'Yes, you can track multiple tracking numbers with a single request.'],\n ['Who will deliver my shipment?',\n  'We partner with 220 postal providers around the world, which deliver shipments on your behalf.'],\n ['When will my shipment be delivered?',\n  'Once your shipment has been handed over to us by the merchant or online shop, delivery is based on the service selected. The merchant or online shop usually indicates the delivery time on its website.Please keep in mind that delivery times can vary depending on the product or service chosen and origin or destination relation; from 2-3 days for neighboring countries and up to 20 days for countries with long distances.Please also keep in mind that – depending on the product or service chosen – the shipment will normally be handed over to the respective local postal company in your country for final delivery to you.'],\n ['Why has my shipment not been delivered yet?',\n  'Please keep in mind that usual delivery times can vary depending on the product  or service and origin or destination relation, from 2-3 days for neighboring countries and up to 20 days for countries with long distances. The merchant or online shop usually indicates the expected delivery time on its website.If your shipment exceeds the expected delivery time, your shipment unfortunately is delayed. We sincerely apologize for any inconvenience a delay may cause. Delivery delays can be caused by e.g. weather events, customs or strikes. In case your shipment has not arrived within 10 days after the expected delivery time, please contact your merchant or online shop. The merchant or online shop, as our contract partner, can start an investigation for lost items.'],\n ['Who can I contact if I have not received my shipment?',\n  'If you have not received your shipment, please contact either your merchant or online shop.'],\n ['Can you change my delivery address?',\n  'Unfortunately, it is not possible to change the address once the shipment has been dispatched.'],\n ['Can I change the delivery day or delivery time?',\n  'Unfortunately, it is not possible to change the delivery day or delivery time once the shipment has been dispatched.'],\n ['My shipment is damaged or the content is missing. What can I do?',\n  'When your shipment is delivered by the local post, you should go to your local post office within 7 days to submit a damage report.Please send the damage report to your merchant or online shop. Your merchant or online shop will then claim the damaged or lost parcel with DHL.Please understand that only the merchant or online shop can file a claim as they are the contract partner of DHL.'],\n ['My shipment is not delivered. What can I do?',\n  'In case your shipment has not arrived within 10 days after the expected delivery time, please contact your merchant or online shop. The merchant or online shop as our contract partner can start an investigation for lost items.Please keep in mind that delivery times can vary depending on the product or service and origin or destination relation, from 2-3 days for neighboring countries and up to 20 days for countries with long distances. The merchant or online shop usually indicates the expected delivery time on its website. Delays of up to 10 days are unfortunately possible due to e.g. weather incidents, customs or operational backlogs.'],\n ['Why is customs holding my shipment?',\n  'Shipments must be custom cleared. Customs clearance processing times differ from country to country and cannot be influenced by DHL. For some countries, duties and taxes may be due. Customs may hold your shipment because they require more information. In this case, they will contact you.'],\n ['What are the duties and taxes?',\n  'Duties and taxes are consumption taxes. Customs duties are levied on certain goods purchased abroad. Value added taxes (VAT) are usually levied in the country where the purchased goods are consumed. Duties and taxes differ per country. Depending on country, duties and taxes are settled with the post office or the customs office. You can find more information about customs on the website of your local customs authority.']]"
     },
     "execution_count": 13,
     "metadata": {},
     "output_type": "execute_result"
    }
   ],
   "source": [
    "combined"
   ]
  },
  {
   "cell_type": "code",
   "execution_count": 18,
   "metadata": {},
   "outputs": [],
   "source": [
    "#create yaml file to train chatbot with dhl q^a\n",
    "import yaml\n",
    "\n",
    "with open('../data/faq.yaml', 'w') as f:\n",
    "    \n",
    "    data = yaml.dump(combined, f)"
   ]
  }
 ],
 "metadata": {
  "kernelspec": {
   "display_name": "Python 3.8.11 64-bit ('base': conda)",
   "name": "python3811jvsc74a57bd05a320894b34090ecca04137520f6fe2ac50253f9dcf4b51d9c389ebaa9d4cf20"
  },
  "language_info": {
   "codemirror_mode": {
    "name": "ipython",
    "version": 3
   },
   "file_extension": ".py",
   "mimetype": "text/x-python",
   "name": "python",
   "nbconvert_exporter": "python",
   "pygments_lexer": "ipython3",
   "version": "3.8.11"
  },
  "orig_nbformat": 2
 },
 "nbformat": 4,
 "nbformat_minor": 2
}