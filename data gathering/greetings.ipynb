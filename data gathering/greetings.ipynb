{
 "cells": [
  {
   "cell_type": "markdown",
   "metadata": {},
   "source": [
    "## Common Greetings"
   ]
  },
  {
   "cell_type": "code",
   "execution_count": 5,
   "metadata": {},
   "outputs": [],
   "source": [
    "#common greetings from the internet\n",
    "g = [[\"Hello\",\"Hi there!\"],\n",
    "[\"How are you doing?\",\"I'm doing great.\"],\n",
    "[\"Thank you\",\"You're welcome\"],\n",
    "[\"thanks\",\"You are welcome\"],\n",
    "[\"Thanks for your help.\",\"No problem!\"],\n",
    "[\"Thank you for helping me\",\"It was no problem at all.\"],\n",
    "[\"Thank you for helping me\",\"I am happy to help\"],\n",
    "[\"hello\",\n",
    "\"helloo\",\n",
    "\"hellooo\",\n",
    "\"Good Day\",\n",
    "\"Greetings!\",\n",
    "\"Good to see you\",\n",
    "\"Its good seeing you\"],\n",
    "[\"How are you\",\n",
    "\"How are you doing\",\n",
    "\"how ya doin\",\n",
    "\"how is everything going\",\n",
    "\"how is it going\",\n",
    "\"how is life been treating you\",\n",
    "\"how have you been\", \n",
    "\"what's up\", \n",
    "\"what is cracking\",\n",
    "\"what is happening\"],\n",
    "[\"tell me more about yourself\",\n",
    "\"i am a bot that's always happy to help!\"],\n",
    "[\"what is new\",\n",
    "\"i am a bot, everything is new\"],\n",
    "[\"How are you?\",\n",
    "\"I am fine, thank you\"],\n",
    "[\"What are you doing now?\",\n",
    "\"I am a bot, I am just existing\"],\n",
    "[\"Who are you?\",\n",
    "\"I am a bot who is here to help you\"],\n",
    "[\"What do you like to eat?\",\n",
    "\"Electricity, of course.\"],\n",
    "[\"Can you tell me a joke?\",\n",
    "\"No, I have no jokes\"],\n",
    "[\"How old are you?\",\n",
    "\"As old as time itself.\"],\n",
    "[\"Can you help me?\",\n",
    "\"Of course I can\"],\n",
    "[\"What are you\",\n",
    "\"I am intelligent.\"],\n",
    "[\"haha\",\n",
    "\"haha to you too\"],\n",
    "[\"BYE\",\"bye\"]]"
   ]
  },
  {
   "cell_type": "code",
   "execution_count": 6,
   "metadata": {},
   "outputs": [],
   "source": [
    "#create yaml file to train chatbot with fake orders\n",
    "import yaml\n",
    "\n",
    "with open('../data/greetings.yaml', 'w') as f:\n",
    "    \n",
    "    data = yaml.dump(g, f)"
   ]
  }
 ],
 "metadata": {
  "kernelspec": {
   "display_name": "Python 3.8.11 64-bit ('base': conda)",
   "name": "python3811jvsc74a57bd05a320894b34090ecca04137520f6fe2ac50253f9dcf4b51d9c389ebaa9d4cf20"
  },
  "language_info": {
   "codemirror_mode": {
    "name": "ipython",
    "version": 3
   },
   "file_extension": ".py",
   "mimetype": "text/x-python",
   "name": "python",
   "nbconvert_exporter": "python",
   "pygments_lexer": "ipython3",
   "version": "3.8.11"
  },
  "orig_nbformat": 2
 },
 "nbformat": 4,
 "nbformat_minor": 2
}